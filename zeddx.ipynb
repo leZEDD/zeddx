{
  "nbformat": 4,
  "nbformat_minor": 0,
  "metadata": {
    "colab": {
      "name": "zeddx.ipynb",
      "provenance": []
    },
    "kernelspec": {
      "name": "python3",
      "display_name": "Python 3"
    },
    "language_info": {
      "name": "python"
    }
  },
  "cells": [
    {
      "cell_type": "code",
      "metadata": {
        "id": "5pGPwxuh5vtq"
      },
      "source": [
        "print(\"Welcome to python world! Let's start coding\")"
      ],
      "execution_count": null,
      "outputs": []
    }
  ]
}